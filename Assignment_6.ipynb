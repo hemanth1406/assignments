{
  "nbformat": 4,
  "nbformat_minor": 0,
  "metadata": {
    "colab": {
      "name": "Assignment 6.ipynb",
      "provenance": [],
      "authorship_tag": "ABX9TyPmS8QGj6Qy7L9XBgU4ChSh",
      "include_colab_link": true
    },
    "kernelspec": {
      "name": "python3",
      "display_name": "Python 3"
    }
  },
  "cells": [
    {
      "cell_type": "markdown",
      "metadata": {
        "id": "view-in-github",
        "colab_type": "text"
      },
      "source": [
        "<a href=\"https://colab.research.google.com/github/hemanth1406/assignments/blob/master/Assignment_6.ipynb\" target=\"_parent\"><img src=\"https://colab.research.google.com/assets/colab-badge.svg\" alt=\"Open In Colab\"/></a>"
      ]
    },
    {
      "cell_type": "markdown",
      "metadata": {
        "id": "55qamnJtI3NN",
        "colab_type": "text"
      },
      "source": [
        " Enter a  number to display it's multiplication table."
      ]
    },
    {
      "cell_type": "code",
      "metadata": {
        "id": "owZgDy4Gv9ZV",
        "colab_type": "code",
        "colab": {
          "base_uri": "https://localhost:8080/",
          "height": 205
        },
        "outputId": "de1eaada-23c3-4e52-f253-76866738d330"
      },
      "source": [
        "n=int(input(\"the table of number\")) \n",
        "for i in range(1,11):\n",
        " print(n,'X',i, '=', n*i)"
      ],
      "execution_count": null,
      "outputs": [
        {
          "output_type": "stream",
          "text": [
            "the table of number6\n",
            "6 X 1 = 6\n",
            "6 X 2 = 12\n",
            "6 X 3 = 18\n",
            "6 X 4 = 24\n",
            "6 X 5 = 30\n",
            "6 X 6 = 36\n",
            "6 X 7 = 42\n",
            "6 X 8 = 48\n",
            "6 X 9 = 54\n",
            "6 X 10 = 60\n"
          ],
          "name": "stdout"
        }
      ]
    },
    {
      "cell_type": "markdown",
      "metadata": {
        "id": "ru6ZmfMEJCjM",
        "colab_type": "text"
      },
      "source": [
        " Convert binary to decimal."
      ]
    },
    {
      "cell_type": "code",
      "metadata": {
        "id": "X7WB_X86JL9D",
        "colab_type": "code",
        "colab": {
          "base_uri": "https://localhost:8080/",
          "height": 51
        },
        "outputId": "7120faad-211a-43c3-c716-4bc702a5d3d8"
      },
      "source": [
        "binary=input (\"the binary value is \") \n",
        "decimal=int(binary,2) \n",
        "print(\" The decimal of {p} is{q}\".format(p=binary, q=decimal))"
      ],
      "execution_count": null,
      "outputs": [
        {
          "output_type": "stream",
          "text": [
            "the binary value is 10010\n",
            " The decimal of 10010 is18\n"
          ],
          "name": "stdout"
        }
      ]
    },
    {
      "cell_type": "markdown",
      "metadata": {
        "id": "LyNipGBVJ_OP",
        "colab_type": "text"
      },
      "source": [
        "Generate first n number of fibonacci. Take n from user."
      ]
    },
    {
      "cell_type": "code",
      "metadata": {
        "id": "ZrdreW0iDCqh",
        "colab_type": "code",
        "colab": {}
      },
      "source": [
        "def fibonacci(n):\n",
        " return first\n",
        " \n",
        "fibonacci(n) \n",
        "n=int(input()) \n",
        "first=0\n",
        "second=1\n",
        "i=1\n",
        "while(i<=n):\n",
        "  next=first+second\n",
        "  first=second\n",
        "  second=next\n",
        "  i+=1\n",
        "print(\"the number is\",first)"
      ],
      "execution_count": null,
      "outputs": []
    },
    {
      "cell_type": "markdown",
      "metadata": {
        "id": "ys9wKBmYMFdB",
        "colab_type": "text"
      },
      "source": [
        "Write a program to find gcd or hcf of two numbers."
      ]
    },
    {
      "cell_type": "code",
      "metadata": {
        "id": "51JtbBb8AN8U",
        "colab_type": "code",
        "colab": {
          "base_uri": "https://localhost:8080/",
          "height": 34
        },
        "outputId": "4444ae86-6b6d-4ac1-bf54-24756dd25371"
      },
      "source": [
        "def gcd(a, b) :\n",
        " while(a!=b) :\n",
        "  if a>b:\n",
        "   a=a-b\n",
        "   if(a%b==0 and b%a==0) :\n",
        "    return a\n",
        "  else:\n",
        "     b=b-a\n",
        "     if(a%b==0 and b%a==0) :\n",
        "      return b\n",
        "  \n",
        "gcd(20, 15)"
      ],
      "execution_count": null,
      "outputs": [
        {
          "output_type": "execute_result",
          "data": {
            "text/plain": [
              "5"
            ]
          },
          "metadata": {
            "tags": []
          },
          "execution_count": 142
        }
      ]
    },
    {
      "cell_type": "markdown",
      "metadata": {
        "id": "7tNlco_jWQHx",
        "colab_type": "text"
      },
      "source": [
        " Write a program that accepts a word from user and reverse it."
      ]
    },
    {
      "cell_type": "code",
      "metadata": {
        "id": "BcqVinATvDYd",
        "colab_type": "code",
        "colab": {}
      },
      "source": [
        "n1=int(input ())"
      ],
      "execution_count": null,
      "outputs": []
    },
    {
      "cell_type": "code",
      "metadata": {
        "id": "iyHqLM8PWiSG",
        "colab_type": "code",
        "colab": {
          "base_uri": "https://localhost:8080/",
          "height": 51
        },
        "outputId": "5d164249-21d8-4c00-a4a9-530d34446491"
      },
      "source": [
        "word=input(\"word is \")\n",
        "revword=word[-1::-1]\n",
        "print(\"the reverse word is\", revword)"
      ],
      "execution_count": null,
      "outputs": [
        {
          "output_type": "stream",
          "text": [
            "word is sna\n",
            "the reverse word is ans\n"
          ],
          "name": "stdout"
        }
      ]
    },
    {
      "cell_type": "markdown",
      "metadata": {
        "id": "oAAbhBkIXGjF",
        "colab_type": "text"
      },
      "source": [
        " Python program to print the numi from 0 to 6 except 3 and 6."
      ]
    },
    {
      "cell_type": "code",
      "metadata": {
        "id": "5pWcxDARZ1cv",
        "colab_type": "code",
        "colab": {
          "base_uri": "https://localhost:8080/",
          "height": 34
        },
        "outputId": "8a6d4a6f-13ce-4cdc-dcca-a44a1eac6aa3"
      },
      "source": [
        "for i in range(6):\n",
        "  if(i==3 or i==6):\n",
        "   continue\n",
        "  print(i,end='')"
      ],
      "execution_count": null,
      "outputs": [
        {
          "output_type": "stream",
          "text": [
            "01245"
          ],
          "name": "stdout"
        }
      ]
    },
    {
      "cell_type": "markdown",
      "metadata": {
        "id": "84_HOLiqaxgT",
        "colab_type": "text"
      },
      "source": [
        " Write a python program to count the number of even and odd numbers from a series of numbers."
      ]
    },
    {
      "cell_type": "code",
      "metadata": {
        "id": "qCn1Y7VxtGWS",
        "colab_type": "code",
        "colab": {
          "base_uri": "https://localhost:8080/",
          "height": 871
        },
        "outputId": "0152daba-4707-4e3b-e675-db497bad59a9"
      },
      "source": [
        "for i in range(1,50, 2) :\n",
        "  print(\"the odd numbers are:\",i)\n",
        "for i in range(0,50,2):\n",
        "  print(\"the even numbers are\", i)"
      ],
      "execution_count": null,
      "outputs": [
        {
          "output_type": "stream",
          "text": [
            "the odd numbers are: 1\n",
            "the odd numbers are: 3\n",
            "the odd numbers are: 5\n",
            "the odd numbers are: 7\n",
            "the odd numbers are: 9\n",
            "the odd numbers are: 11\n",
            "the odd numbers are: 13\n",
            "the odd numbers are: 15\n",
            "the odd numbers are: 17\n",
            "the odd numbers are: 19\n",
            "the odd numbers are: 21\n",
            "the odd numbers are: 23\n",
            "the odd numbers are: 25\n",
            "the odd numbers are: 27\n",
            "the odd numbers are: 29\n",
            "the odd numbers are: 31\n",
            "the odd numbers are: 33\n",
            "the odd numbers are: 35\n",
            "the odd numbers are: 37\n",
            "the odd numbers are: 39\n",
            "the odd numbers are: 41\n",
            "the odd numbers are: 43\n",
            "the odd numbers are: 45\n",
            "the odd numbers are: 47\n",
            "the odd numbers are: 49\n",
            "the even numbers are 0\n",
            "the even numbers are 2\n",
            "the even numbers are 4\n",
            "the even numbers are 6\n",
            "the even numbers are 8\n",
            "the even numbers are 10\n",
            "the even numbers are 12\n",
            "the even numbers are 14\n",
            "the even numbers are 16\n",
            "the even numbers are 18\n",
            "the even numbers are 20\n",
            "the even numbers are 22\n",
            "the even numbers are 24\n",
            "the even numbers are 26\n",
            "the even numbers are 28\n",
            "the even numbers are 30\n",
            "the even numbers are 32\n",
            "the even numbers are 34\n",
            "the even numbers are 36\n",
            "the even numbers are 38\n",
            "the even numbers are 40\n",
            "the even numbers are 42\n",
            "the even numbers are 44\n",
            "the even numbers are 46\n",
            "the even numbers are 48\n"
          ],
          "name": "stdout"
        }
      ]
    },
    {
      "cell_type": "markdown",
      "metadata": {
        "id": "ZdnKqzQEcb62",
        "colab_type": "text"
      },
      "source": [
        " Take 10 integers from keyboard using loop and print their average value on the screen.print the pattern."
      ]
    },
    {
      "cell_type": "code",
      "metadata": {
        "id": "SshgZcMudV5o",
        "colab_type": "code",
        "colab": {
          "base_uri": "https://localhost:8080/",
          "height": 34
        },
        "outputId": "fa180a29-f252-4096-90ce-e0381f8d4ad6"
      },
      "source": [
        "n1=[25, 65,44,10,4,6,8,9,3,1]\n",
        "sum=0\n",
        "for n in n1:\n",
        "  sum=sum+n\n",
        "avg=sum/len(n1) \n",
        "print(\"average is\", avg)"
      ],
      "execution_count": null,
      "outputs": [
        {
          "output_type": "stream",
          "text": [
            "average is 17.5\n"
          ],
          "name": "stdout"
        }
      ]
    }
  ]
}