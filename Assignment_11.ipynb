{
  "nbformat": 4,
  "nbformat_minor": 0,
  "metadata": {
    "colab": {
      "name": "Assignment 11.ipynb",
      "provenance": [],
      "authorship_tag": "ABX9TyNYhbi6k+FdaCKme6aWgpw7",
      "include_colab_link": true
    },
    "kernelspec": {
      "name": "python3",
      "display_name": "Python 3"
    }
  },
  "cells": [
    {
      "cell_type": "markdown",
      "metadata": {
        "id": "view-in-github",
        "colab_type": "text"
      },
      "source": [
        "<a href=\"https://colab.research.google.com/github/hemanth1406/assignments/blob/master/Assignment_11.ipynb\" target=\"_parent\"><img src=\"https://colab.research.google.com/assets/colab-badge.svg\" alt=\"Open In Colab\"/></a>"
      ]
    },
    {
      "cell_type": "markdown",
      "metadata": {
        "id": "3VywcHhQ8zl4",
        "colab_type": "text"
      },
      "source": [
        " Write a python program to create a tuple"
      ]
    },
    {
      "cell_type": "code",
      "metadata": {
        "id": "iXhaGKu38x-O",
        "colab_type": "code",
        "colab": {
          "base_uri": "https://localhost:8080/",
          "height": 34
        },
        "outputId": "0f72a739-46b5-42e1-8afd-e7006d215381"
      },
      "source": [
        "tuple=(1, 2,3,4,56,7) \n",
        "print(tuple,type(tuple))"
      ],
      "execution_count": null,
      "outputs": [
        {
          "output_type": "stream",
          "text": [
            "(1, 2, 3, 4, 56, 7) <class 'tuple'>\n"
          ],
          "name": "stdout"
        }
      ]
    },
    {
      "cell_type": "markdown",
      "metadata": {
        "id": "ZRj2GJQ29V31",
        "colab_type": "text"
      },
      "source": [
        " Write a python program to create tuple with different datatypes."
      ]
    },
    {
      "cell_type": "code",
      "metadata": {
        "id": "Q37oBrvY9dCh",
        "colab_type": "code",
        "colab": {
          "base_uri": "https://localhost:8080/",
          "height": 34
        },
        "outputId": "f6c487e4-97c5-4851-8c38-5b2c6afd2f4d"
      },
      "source": [
        "tuple=(\"Sandeep\", 2,2.7,False) \n",
        "print(tuple)"
      ],
      "execution_count": null,
      "outputs": [
        {
          "output_type": "stream",
          "text": [
            "('Sandeep', 2, 2.7, False)\n"
          ],
          "name": "stdout"
        }
      ]
    },
    {
      "cell_type": "markdown",
      "metadata": {
        "id": "wwj1DNUk9yYq",
        "colab_type": "text"
      },
      "source": [
        "Write a python program to convert tuple into string."
      ]
    },
    {
      "cell_type": "code",
      "metadata": {
        "id": "M6rqQuTT94rH",
        "colab_type": "code",
        "colab": {
          "base_uri": "https://localhost:8080/",
          "height": 34
        },
        "outputId": "71eebaf5-fca0-4a6c-e610-9cfdfdcdfb28"
      },
      "source": [
        "tuple=(\"1\",\"is \",\"a number \") \n",
        "str=''.join(tuple) \n",
        "print(str)"
      ],
      "execution_count": null,
      "outputs": [
        {
          "output_type": "stream",
          "text": [
            "1is a number \n"
          ],
          "name": "stdout"
        }
      ]
    },
    {
      "cell_type": "markdown",
      "metadata": {
        "id": "BvTKtJnN-h-q",
        "colab_type": "text"
      },
      "source": [
        "Write a python program to slice a tuple."
      ]
    },
    {
      "cell_type": "markdown",
      "metadata": {
        "id": "hrfikjur-q0O",
        "colab_type": "text"
      },
      "source": [
        "tuple=(1, 2,9,6,5)\n",
        "slice=tuple[3]\n",
        "print(slice)"
      ]
    },
    {
      "cell_type": "code",
      "metadata": {
        "id": "j06eLyk1-_P1",
        "colab_type": "code",
        "colab": {
          "base_uri": "https://localhost:8080/",
          "height": 34
        },
        "outputId": "f74fa47c-97f6-4bfa-cfd7-9377d66f05cc"
      },
      "source": [
        "tuple=(1, 2,36,6,5) \n",
        "Slice=tuple[3]\n",
        "print(Slice)"
      ],
      "execution_count": null,
      "outputs": [
        {
          "output_type": "stream",
          "text": [
            "6\n"
          ],
          "name": "stdout"
        }
      ]
    },
    {
      "cell_type": "markdown",
      "metadata": {
        "id": "VqxedeYv_KT9",
        "colab_type": "text"
      },
      "source": [
        " Write a python program to find length of tuple."
      ]
    },
    {
      "cell_type": "code",
      "metadata": {
        "id": "839X1N5q_Rci",
        "colab_type": "code",
        "colab": {
          "base_uri": "https://localhost:8080/",
          "height": 34
        },
        "outputId": "5c93792c-503b-4bf9-9046-8e741841c232"
      },
      "source": [
        "tuple=(1, 4, 2,3) \n",
        "print(len(tuple))"
      ],
      "execution_count": null,
      "outputs": [
        {
          "output_type": "stream",
          "text": [
            "4\n"
          ],
          "name": "stdout"
        }
      ]
    },
    {
      "cell_type": "markdown",
      "metadata": {
        "id": "uooD-KPe_j4v",
        "colab_type": "text"
      },
      "source": [
        "Write python program to reverse a tuple."
      ]
    },
    {
      "cell_type": "code",
      "metadata": {
        "id": "Sd1JvU4L_nKc",
        "colab_type": "code",
        "colab": {
          "base_uri": "https://localhost:8080/",
          "height": 34
        },
        "outputId": "7fef696a-3af7-433f-b250-f49351b573ee"
      },
      "source": [
        "Tuple=(1, 2,3,4,5,6,7) \n",
        "New=Tuple[-1::-1]\n",
        "print(New)"
      ],
      "execution_count": null,
      "outputs": [
        {
          "output_type": "stream",
          "text": [
            "(7, 6, 5, 4, 3, 2, 1)\n"
          ],
          "name": "stdout"
        }
      ]
    },
    {
      "cell_type": "markdown",
      "metadata": {
        "id": "Qi_DEGCKBPHa",
        "colab_type": "text"
      },
      "source": [
        "Write a python program to convert list to tuple."
      ]
    },
    {
      "cell_type": "code",
      "metadata": {
        "id": "myJmd2ksMZAI",
        "colab_type": "code",
        "colab": {}
      },
      "source": [
        "l1=[1,2,3,44,555,6]\n",
        "print(l1)\n",
        "t1=tuple(l1)\n",
        "print(t1)"
      ],
      "execution_count": null,
      "outputs": []
    }
  ]
}