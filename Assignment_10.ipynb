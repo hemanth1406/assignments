{
  "nbformat": 4,
  "nbformat_minor": 0,
  "metadata": {
    "colab": {
      "name": "Assignment 10.ipynb",
      "provenance": [],
      "authorship_tag": "ABX9TyNfDLJATToA8kPjLDqrNJWn",
      "include_colab_link": true
    },
    "kernelspec": {
      "name": "python3",
      "display_name": "Python 3"
    }
  },
  "cells": [
    {
      "cell_type": "markdown",
      "metadata": {
        "id": "view-in-github",
        "colab_type": "text"
      },
      "source": [
        "<a href=\"https://colab.research.google.com/github/hemanth1406/assignments/blob/master/Assignment_10.ipynb\" target=\"_parent\"><img src=\"https://colab.research.google.com/assets/colab-badge.svg\" alt=\"Open In Colab\"/></a>"
      ]
    },
    {
      "cell_type": "markdown",
      "metadata": {
        "id": "jU4GlLZEfYbF",
        "colab_type": "text"
      },
      "source": [
        " 1.write a python program to read an entire text file"
      ]
    },
    {
      "cell_type": "code",
      "metadata": {
        "id": "huSPlL95fWzT",
        "colab_type": "code",
        "colab": {}
      },
      "source": [
        "f=open(\"python.txt\",\"w\") \n",
        "f.close()"
      ],
      "execution_count": null,
      "outputs": []
    },
    {
      "cell_type": "code",
      "metadata": {
        "id": "Kb9F1Uiof6q4",
        "colab_type": "code",
        "colab": {}
      },
      "source": [
        "f=open(\"python.txt\",\"w\")\n",
        "f.write(\"how are you doing \") \n",
        "f.close()"
      ],
      "execution_count": null,
      "outputs": []
    },
    {
      "cell_type": "code",
      "metadata": {
        "id": "NTUSPD49gSpO",
        "colab_type": "code",
        "colab": {
          "base_uri": "https://localhost:8080/",
          "height": 34
        },
        "outputId": "ccacaf9b-1580-4039-85dc-dfe19bfc47fa"
      },
      "source": [
        "f=open(\"python.txt\", \"r\") \n",
        "r=f.read() \n",
        "print(r) \n",
        "f.close()"
      ],
      "execution_count": null,
      "outputs": [
        {
          "output_type": "stream",
          "text": [
            "how are you doing \n"
          ],
          "name": "stdout"
        }
      ]
    },
    {
      "cell_type": "markdown",
      "metadata": {
        "id": "PdzXjduIhGvV",
        "colab_type": "text"
      },
      "source": [
        " Write a python program to read first n lines of file."
      ]
    },
    {
      "cell_type": "code",
      "metadata": {
        "id": "P_RwdkWvhZ-v",
        "colab_type": "code",
        "colab": {}
      },
      "source": [
        "f=open(\"program.txt\", \"w\") \n",
        "f.close()"
      ],
      "execution_count": null,
      "outputs": []
    },
    {
      "cell_type": "code",
      "metadata": {
        "id": "mcxYOY3IhpFg",
        "colab_type": "code",
        "colab": {}
      },
      "source": [
        "f=open(\"program.txt\",\"w\") \n",
        "f.write(\"can I know how old are you\\n\")\n",
        "f. write (\"sure\") \n",
        "f.close()"
      ],
      "execution_count": null,
      "outputs": []
    },
    {
      "cell_type": "code",
      "metadata": {
        "id": "Q9yaAyZliNma",
        "colab_type": "code",
        "colab": {
          "base_uri": "https://localhost:8080/",
          "height": 51
        },
        "outputId": "01a487c8-61c5-43c0-cd3a-e243be78fc64"
      },
      "source": [
        "f=open(\"program.txt\",\"r\") \n",
        "R=f.readline() \n",
        "print(R) \n",
        "f.close()"
      ],
      "execution_count": null,
      "outputs": [
        {
          "output_type": "stream",
          "text": [
            "can I know how old are you\n",
            "\n"
          ],
          "name": "stdout"
        }
      ]
    },
    {
      "cell_type": "markdown",
      "metadata": {
        "id": "sHxbb8yki6s_",
        "colab_type": "text"
      },
      "source": [
        "Write a python program to append a file and display it."
      ]
    },
    {
      "cell_type": "code",
      "metadata": {
        "id": "dMmWr85djDJ8",
        "colab_type": "code",
        "colab": {}
      },
      "source": [
        "f=open(\"append.txt\", \"w\") \n",
        "f.write(\" My name is\") \n",
        "f.close()"
      ],
      "execution_count": null,
      "outputs": []
    },
    {
      "cell_type": "code",
      "metadata": {
        "id": "A58OSmqjjOKO",
        "colab_type": "code",
        "colab": {}
      },
      "source": [
        "f=open(\"append.txt\",\"a\") \n",
        "f.write(\"Sandeep \") \n",
        "f.close()"
      ],
      "execution_count": null,
      "outputs": []
    },
    {
      "cell_type": "code",
      "metadata": {
        "id": "uPkxjvc-jZ1Z",
        "colab_type": "code",
        "colab": {
          "base_uri": "https://localhost:8080/",
          "height": 34
        },
        "outputId": "39940eab-ee87-4535-bb4c-7f887d0133eb"
      },
      "source": [
        "f=open(\"append.txt\", \"r\") \n",
        "T=f.read() \n",
        "print(T) \n",
        "f.close()"
      ],
      "execution_count": null,
      "outputs": [
        {
          "output_type": "stream",
          "text": [
            " My name isSandeep \n"
          ],
          "name": "stdout"
        }
      ]
    },
    {
      "cell_type": "markdown",
      "metadata": {
        "id": "YrPYcSskj0Iz",
        "colab_type": "text"
      },
      "source": [
        " Write a python program to find last n lines of a file."
      ]
    },
    {
      "cell_type": "code",
      "metadata": {
        "id": "9BzVKMtHlfYp",
        "colab_type": "code",
        "colab": {
          "base_uri": "https://localhost:8080/",
          "height": 34
        },
        "outputId": "d633d7fc-7ba6-437b-f2d4-8da0e88747b3"
      },
      "source": [
        " def LastNlines(fname, N):\n",
        "  with open(fname) as file:\n",
        "    for line in (file.readlines() [-N:]):\n",
        "      print(line, end ='')\n",
        "if __name__ == '__main__':\n",
        "  fname = 'File1.txt'\n",
        "  N = 3\n",
        "  try:\n",
        "   LastNlines(fname, N) \n",
        "  except:\n",
        "   print('File not found')"
      ],
      "execution_count": null,
      "outputs": [
        {
          "output_type": "stream",
          "text": [
            "File not found\n"
          ],
          "name": "stdout"
        }
      ]
    },
    {
      "cell_type": "markdown",
      "metadata": {
        "id": "VAsIfSdOlhAf",
        "colab_type": "text"
      },
      "source": [
        "Write a python program to read a file line by line store it in a variable."
      ]
    },
    {
      "cell_type": "code",
      "metadata": {
        "id": "9MObzQKXlxk8",
        "colab_type": "code",
        "colab": {
          "base_uri": "https://localhost:8080/",
          "height": 34
        },
        "outputId": "913a3135-d12a-4d39-c7e9-c3d570dd37ee"
      },
      "source": [
        " \n",
        "f1=open(\"test.txt\",\"w\")\n",
        "f.close()\n",
        "f1=open(\"test1.txt\",\"w\")\n",
        "f1.write(\"hi\")\n",
        "f.close()\n",
        "f1=open(\"test1.txt\").readlines() \n",
        "print(f1)"
      ],
      "execution_count": null,
      "outputs": [
        {
          "output_type": "stream",
          "text": [
            "[]\n"
          ],
          "name": "stdout"
        }
      ]
    },
    {
      "cell_type": "markdown",
      "metadata": {
        "id": "QLponG9bnkLc",
        "colab_type": "text"
      },
      "source": [
        " Write a python program to read to read a file line by line store it into a list."
      ]
    },
    {
      "cell_type": "code",
      "metadata": {
        "id": "QaAweW9QoIJS",
        "colab_type": "code",
        "colab": {
          "base_uri": "https://localhost:8080/",
          "height": 34
        },
        "outputId": "635c2ec4-43ce-4fb9-967a-4ff5f4c325ec"
      },
      "source": [
        "infile=open(\"test.txt\",\"w\")\n",
        "f.close()\n",
        "infile=open(\"test1.txt\",\"w\")\n",
        "infile.write(\"hello\")\n",
        "f.close()\n",
        "infile = \"test1.txt\"\n",
        "content_list = open(infile).readlines()\n",
        "print (content_list)"
      ],
      "execution_count": null,
      "outputs": [
        {
          "output_type": "stream",
          "text": [
            "['hello']\n"
          ],
          "name": "stdout"
        }
      ]
    },
    {
      "cell_type": "markdown",
      "metadata": {
        "id": "r4-tm7b2oONp",
        "colab_type": "text"
      },
      "source": [
        " Write a python program to read a file line by line store it into array."
      ]
    },
    {
      "cell_type": "code",
      "metadata": {
        "id": "807m2J8JoZX5",
        "colab_type": "code",
        "colab": {
          "base_uri": "https://localhost:8080/",
          "height": 34
        },
        "outputId": "65357966-f3cf-4f8a-d798-208f466c9c04"
      },
      "source": [
        " \n",
        "f2=open(\"test1.txt\",\"w\")\n",
        "f.close()\n",
        "f2=open(\"test1.txt\",\"w\")\n",
        "s='''how\n",
        "     are\n",
        "     You'''\n",
        "f2.write(s)\n",
        "f.close()\n",
        "f2=(\"test1.txt\")\n",
        "content_array=open(f2).readlines()\n",
        "print(content_array)"
      ],
      "execution_count": null,
      "outputs": [
        {
          "output_type": "stream",
          "text": [
            "['how\\n', '    are\\n', '    You']\n"
          ],
          "name": "stdout"
        }
      ]
    },
    {
      "cell_type": "markdown",
      "metadata": {
        "id": "veTzgo99okgV",
        "colab_type": "text"
      },
      "source": [
        " Write a python program to count the number of lines in a text file."
      ]
    },
    {
      "cell_type": "code",
      "metadata": {
        "id": "_6rV_v4Po3nd",
        "colab_type": "code",
        "colab": {
          "base_uri": "https://localhost:8080/",
          "height": 34
        },
        "outputId": "11047d8e-1cfa-4b19-9b77-fa9e920ca15a"
      },
      "source": [
        " \n",
        "f3=open(\"file.txt\",\"w\")\n",
        "f3.close()\n",
        "f3=open(\"file.txt\",\"w\")\n",
        "s='''this\n",
        "     is the\n",
        "     Code'''\n",
        "f3.write(s)\n",
        "f3.close()\n",
        "f3=open(\"file.txt\",\"r\")\n",
        "s=f3.read()\n",
        "print(len(s.split('\\n')))\n",
        "f.close()"
      ],
      "execution_count": null,
      "outputs": [
        {
          "output_type": "stream",
          "text": [
            "3\n"
          ],
          "name": "stdout"
        }
      ]
    },
    {
      "cell_type": "markdown",
      "metadata": {
        "id": "z786co8zpBmL",
        "colab_type": "text"
      },
      "source": [
        " Write a python program to find the size of plain file."
      ]
    },
    {
      "cell_type": "code",
      "metadata": {
        "id": "X70i4Q9CpUSF",
        "colab_type": "code",
        "colab": {
          "base_uri": "https://localhost:8080/",
          "height": 34
        },
        "outputId": "a3f46569-6cbe-47aa-a0b8-5c02a786fa74"
      },
      "source": [
        " \n",
        "file=open(\"test.txt\",\"w\")\n",
        "f.close()\n",
        "file=open(\"test.txt\",\"w\")\n",
        "file.write(\"good night\")\n",
        "f.close()\n",
        "import os\n",
        "os.path.getsize(\"test.txt\")"
      ],
      "execution_count": null,
      "outputs": [
        {
          "output_type": "execute_result",
          "data": {
            "text/plain": [
              "0"
            ]
          },
          "metadata": {
            "tags": []
          },
          "execution_count": 59
        }
      ]
    },
    {
      "cell_type": "markdown",
      "metadata": {
        "id": "oaQZ8ha0peJN",
        "colab_type": "text"
      },
      "source": [
        "Write a python program to find the copy of one file to another."
      ]
    },
    {
      "cell_type": "code",
      "metadata": {
        "id": "QLwgh-Jkpll2",
        "colab_type": "code",
        "colab": {}
      },
      "source": [
        " \n",
        "file1=open(\"f1.txt\",\"w\")\n",
        "file1.close()\n",
        "file1=open(\"f1.txt\",\"w\")\n",
        "s='''welcome \n",
        "     to gitam \n",
        "     University'''\n",
        "file1.write(s)\n",
        "file1.close()\n",
        "file2=open(\"f2.txt\",\"w\")\n",
        "file1=open(\"f1.txt\",\"r\")\n",
        "for line in file1:\n",
        "  file2.write(line)\n",
        "file1.close()\n",
        "file2.close()"
      ],
      "execution_count": null,
      "outputs": []
    }
  ]
}