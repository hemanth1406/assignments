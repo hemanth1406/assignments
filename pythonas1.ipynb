{
  "nbformat": 4,
  "nbformat_minor": 0,
  "metadata": {
    "colab": {
      "name": "pythonas1.ipynb",
      "provenance": [],
      "authorship_tag": "ABX9TyOD0n8pghHVhPpkxY7hCl5k",
      "include_colab_link": true
    },
    "kernelspec": {
      "name": "python3",
      "display_name": "Python 3"
    }
  },
  "cells": [
    {
      "cell_type": "markdown",
      "metadata": {
        "id": "view-in-github",
        "colab_type": "text"
      },
      "source": [
        "<a href=\"https://colab.research.google.com/github/hemanth1406/assignments/blob/master/pythonas1.ipynb\" target=\"_parent\"><img src=\"https://colab.research.google.com/assets/colab-badge.svg\" alt=\"Open In Colab\"/></a>"
      ]
    },
    {
      "cell_type": "code",
      "metadata": {
        "id": "kkW49vzp914r",
        "colab_type": "code",
        "colab": {}
      },
      "source": [
        ""
      ],
      "execution_count": null,
      "outputs": []
    },
    {
      "cell_type": "code",
      "metadata": {
        "id": "oBd7Za0uAlPA",
        "colab_type": "code",
        "colab": {}
      },
      "source": [
        ""
      ],
      "execution_count": null,
      "outputs": []
    },
    {
      "cell_type": "markdown",
      "metadata": {
        "id": "h_xiZRzBAprx",
        "colab_type": "text"
      },
      "source": [
        "  Program to design simple calculator for operators"
      ]
    },
    {
      "cell_type": "code",
      "metadata": {
        "id": "FLU9JyLJAyJg",
        "colab_type": "code",
        "colab": {
          "base_uri": "https://localhost:8080/",
          "height": 68
        },
        "outputId": "1c6455ea-41c3-4d07-d0c0-8f218e73bd15"
      },
      "source": [
        "a=int(input()) \n",
        "b=int(input()) \n",
        "print(a+b, a-b, a*b, a/b, a//b, a%b,a**b)"
      ],
      "execution_count": null,
      "outputs": [
        {
          "output_type": "stream",
          "text": [
            "3\n",
            "6\n",
            "9 -3 18 0.5 0 3 729\n"
          ],
          "name": "stdout"
        }
      ]
    },
    {
      "cell_type": "markdown",
      "metadata": {
        "id": "TYwDumxbBYYZ",
        "colab_type": "text"
      },
      "source": [
        " Program to calculate simple interest"
      ]
    },
    {
      "cell_type": "code",
      "metadata": {
        "id": "P39AzgyWSG67",
        "colab_type": "code",
        "colab": {}
      },
      "source": [
        ""
      ],
      "execution_count": null,
      "outputs": []
    },
    {
      "cell_type": "markdown",
      "metadata": {
        "id": "9tW4WOvuBTLo",
        "colab_type": "text"
      },
      "source": [
        ""
      ]
    },
    {
      "cell_type": "code",
      "metadata": {
        "id": "_DV35zBPBd9Y",
        "colab_type": "code",
        "colab": {
          "base_uri": "https://localhost:8080/",
          "height": 85
        },
        "outputId": "e4ae288d-5acf-4828-e44b-bc100f2fd505"
      },
      "source": [
        "p=int(input()) \n",
        "t=int(input()) \n",
        "r=int(input())\n",
        "print((p*t*r) /100)"
      ],
      "execution_count": null,
      "outputs": [
        {
          "output_type": "stream",
          "text": [
            "5\n",
            "2\n",
            "10\n",
            "1.0\n"
          ],
          "name": "stdout"
        }
      ]
    },
    {
      "cell_type": "markdown",
      "metadata": {
        "id": "zDzIfr6ZCitZ",
        "colab_type": "text"
      },
      "source": [
        "Program to calculate area of a circle"
      ]
    },
    {
      "cell_type": "code",
      "metadata": {
        "id": "XYNPbhrVCoTt",
        "colab_type": "code",
        "colab": {
          "base_uri": "https://localhost:8080/",
          "height": 51
        },
        "outputId": "ac052400-fecf-4cd9-92ff-b4d035caee90"
      },
      "source": [
        "radius=float( input()) \n",
        "print ('area of circle is', 3.14*radius**2)"
      ],
      "execution_count": null,
      "outputs": [
        {
          "output_type": "stream",
          "text": [
            "3\n",
            "area of circle is 28.26\n"
          ],
          "name": "stdout"
        }
      ]
    },
    {
      "cell_type": "markdown",
      "metadata": {
        "id": "bV-o91ADDTML",
        "colab_type": "text"
      },
      "source": [
        " Program to calculate area of triangle"
      ]
    },
    {
      "cell_type": "code",
      "metadata": {
        "id": "kNHxM9uzDYvW",
        "colab_type": "code",
        "colab": {
          "base_uri": "https://localhost:8080/",
          "height": 68
        },
        "outputId": "f71ac241-0824-49fd-f8e7-cb41ed6f03ca"
      },
      "source": [
        "breadth=int(input ()) \n",
        "length=int(input ()) \n",
        "print(\"area of triangle is\",(1/2) *breadth*length)"
      ],
      "execution_count": null,
      "outputs": [
        {
          "output_type": "stream",
          "text": [
            "2\n",
            "3\n",
            "3.0\n"
          ],
          "name": "stdout"
        }
      ]
    },
    {
      "cell_type": "markdown",
      "metadata": {
        "id": "StUfedmkEYmI",
        "colab_type": "text"
      },
      "source": [
        " Program to convert Celsius to Fahrenheit"
      ]
    },
    {
      "cell_type": "code",
      "metadata": {
        "id": "PMa_zslEEmt1",
        "colab_type": "code",
        "colab": {
          "base_uri": "https://localhost:8080/",
          "height": 51
        },
        "outputId": "f6507662-7c00-4bc0-c64a-5a6ff6a740d0"
      },
      "source": [
        " \n",
        "celsius=float(input ()) \n",
        "print('after conversion Fahrenheit is', celsius*1.8+32)"
      ],
      "execution_count": null,
      "outputs": [
        {
          "output_type": "stream",
          "text": [
            "37.5\n",
            "after conversion Fahrenheit is 99.5\n"
          ],
          "name": "stdout"
        }
      ]
    },
    {
      "cell_type": "markdown",
      "metadata": {
        "id": "10E436eEF4cE",
        "colab_type": "text"
      },
      "source": [
        " Program to calculate area of rectangle"
      ]
    },
    {
      "cell_type": "code",
      "metadata": {
        "id": "S16lr6r5F-pe",
        "colab_type": "code",
        "colab": {
          "base_uri": "https://localhost:8080/",
          "height": 68
        },
        "outputId": "7ae5e9a3-1c3e-4132-b2a6-4702d09e4a26"
      },
      "source": [
        "length=int(input()) \n",
        "breadth=int(input()) \n",
        "print(\"area of rectangle is\", length*breadth)"
      ],
      "execution_count": null,
      "outputs": [
        {
          "output_type": "stream",
          "text": [
            "2\n",
            "3\n",
            "area of rectangle is 6\n"
          ],
          "name": "stdout"
        }
      ]
    },
    {
      "cell_type": "markdown",
      "metadata": {
        "id": "V6HsFWqSGpmo",
        "colab_type": "text"
      },
      "source": [
        "Program to calculate perimeter of a square"
      ]
    },
    {
      "cell_type": "code",
      "metadata": {
        "id": "ZzRaZo7DGthm",
        "colab_type": "code",
        "colab": {
          "base_uri": "https://localhost:8080/",
          "height": 51
        },
        "outputId": "8f2c822d-9b4d-4b3f-f9c9-295e4e0f2587"
      },
      "source": [
        "a=int(input ()) \n",
        "print (\"perimeter of a square  is \", 4*a)"
      ],
      "execution_count": null,
      "outputs": [
        {
          "output_type": "stream",
          "text": [
            "4\n",
            "perimeter of a square  is  16\n"
          ],
          "name": "stdout"
        }
      ]
    },
    {
      "cell_type": "markdown",
      "metadata": {
        "id": "psMSeT0cHGSl",
        "colab_type": "text"
      },
      "source": [
        " Program to calculate circumference of a circle"
      ]
    },
    {
      "cell_type": "code",
      "metadata": {
        "id": "LXHq4ya7HMmt",
        "colab_type": "code",
        "colab": {
          "base_uri": "https://localhost:8080/",
          "height": 51
        },
        "outputId": "bec652dd-5f13-4df8-fc39-127f0248b57a"
      },
      "source": [
        "radius=float(input ()) \n",
        "print (\"circumference of a circle is\", 2*3.14*radius)"
      ],
      "execution_count": null,
      "outputs": [
        {
          "output_type": "stream",
          "text": [
            "7.6\n",
            "circumference of a circle is 47.728\n"
          ],
          "name": "stdout"
        }
      ]
    },
    {
      "cell_type": "markdown",
      "metadata": {
        "id": "EKg1v2cxHol7",
        "colab_type": "text"
      },
      "source": [
        " Program to swap two numbers"
      ]
    },
    {
      "cell_type": "code",
      "metadata": {
        "id": "lGYYiLKRHtYn",
        "colab_type": "code",
        "colab": {
          "base_uri": "https://localhost:8080/",
          "height": 68
        },
        "outputId": "cb507e28-3a63-4aaf-f45b-35b09a7fae03"
      },
      "source": [
        "a=int(input ()) \n",
        "b=int(input ()) \n",
        "temp=a\n",
        "a=b\n",
        "b=temp\n",
        "print (\"after swapping the values are\", a, b)"
      ],
      "execution_count": null,
      "outputs": [
        {
          "output_type": "stream",
          "text": [
            "2\n",
            "3\n",
            "after swapping the values are 3 2\n"
          ],
          "name": "stdout"
        }
      ]
    },
    {
      "cell_type": "markdown",
      "metadata": {
        "id": "VNc6CplfGe4M",
        "colab_type": "text"
      },
      "source": [
        ""
      ]
    }
  ]
}