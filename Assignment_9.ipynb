{
  "nbformat": 4,
  "nbformat_minor": 0,
  "metadata": {
    "colab": {
      "name": "Assignment 9.ipynb",
      "provenance": [],
      "authorship_tag": "ABX9TyPbyVfkrT3qPZNs+KrczFnv",
      "include_colab_link": true
    },
    "kernelspec": {
      "name": "python3",
      "display_name": "Python 3"
    }
  },
  "cells": [
    {
      "cell_type": "markdown",
      "metadata": {
        "id": "view-in-github",
        "colab_type": "text"
      },
      "source": [
        "<a href=\"https://colab.research.google.com/github/hemanth1406/assignments/blob/master/Assignment_9.ipynb\" target=\"_parent\"><img src=\"https://colab.research.google.com/assets/colab-badge.svg\" alt=\"Open In Colab\"/></a>"
      ]
    },
    {
      "cell_type": "markdown",
      "metadata": {
        "id": "4IrVc8floW8m",
        "colab_type": "text"
      },
      "source": [
        " Write a Python program to get the largest & smallest number from a list."
      ]
    },
    {
      "cell_type": "code",
      "metadata": {
        "id": "1KyEiwhsoeEP",
        "colab_type": "code",
        "colab": {
          "base_uri": "https://localhost:8080/",
          "height": 34
        },
        "outputId": "3389bd58-e9da-4138-9474-d00824210dd0"
      },
      "source": [
        " def smallest_num_in_list( list ):\n",
        "    min = list[ 0 ]\n",
        "    for a in list:\n",
        "        if a < min:\n",
        "            min = a\n",
        "    return min\n",
        "print(smallest_num_in_list([1, 2,3,5,9]))"
      ],
      "execution_count": null,
      "outputs": [
        {
          "output_type": "stream",
          "text": [
            "1\n"
          ],
          "name": "stdout"
        }
      ]
    },
    {
      "cell_type": "markdown",
      "metadata": {
        "id": "CmXt96K_osei",
        "colab_type": "text"
      },
      "source": [
        ""
      ]
    },
    {
      "cell_type": "code",
      "metadata": {
        "id": "dQCHWZZ0pUdJ",
        "colab_type": "code",
        "colab": {
          "base_uri": "https://localhost:8080/",
          "height": 34
        },
        "outputId": "cfa579a6-e0e1-4931-fd56-83d90acbe2f3"
      },
      "source": [
        "def max_num_in_list( list ):\n",
        "    max = list[ 0 ]\n",
        "    for a in list:\n",
        "        if a > max:\n",
        "            max = a\n",
        "    return max\n",
        "print(max_num_in_list([1, 2, 10, 0]))"
      ],
      "execution_count": null,
      "outputs": [
        {
          "output_type": "stream",
          "text": [
            "10\n"
          ],
          "name": "stdout"
        }
      ]
    },
    {
      "cell_type": "markdown",
      "metadata": {
        "id": "Aj_mOhLwpZtw",
        "colab_type": "text"
      },
      "source": [
        " Write a Python program to remove duplicates from a list."
      ]
    },
    {
      "cell_type": "code",
      "metadata": {
        "id": "sGaqCY3uphH4",
        "colab_type": "code",
        "colab": {
          "base_uri": "https://localhost:8080/",
          "height": 34
        },
        "outputId": "55bd0d9a-dfaf-4f36-c2eb-2ef0c640e847"
      },
      "source": [
        " duplicate=[1,3,5,3,7,10,7,3]\n",
        "print(list(set(duplicate)))"
      ],
      "execution_count": null,
      "outputs": [
        {
          "output_type": "stream",
          "text": [
            "[1, 3, 5, 7, 10]\n"
          ],
          "name": "stdout"
        }
      ]
    },
    {
      "cell_type": "markdown",
      "metadata": {
        "id": "r32HgugfpzPC",
        "colab_type": "text"
      },
      "source": [
        " Write a Python program to check a list is empty or not."
      ]
    },
    {
      "cell_type": "code",
      "metadata": {
        "id": "F7N9-k7kp0SR",
        "colab_type": "code",
        "colab": {
          "base_uri": "https://localhost:8080/",
          "height": 34
        },
        "outputId": "53761405-8719-43d3-be27-9e71df711752"
      },
      "source": [
        " l = []\n",
        "if not l:\n",
        "  print(\"List is empty\")\n",
        "else:\n",
        "  print(\"List is not empty\")"
      ],
      "execution_count": null,
      "outputs": [
        {
          "output_type": "stream",
          "text": [
            "List is empty\n"
          ],
          "name": "stdout"
        }
      ]
    },
    {
      "cell_type": "markdown",
      "metadata": {
        "id": "nMFWtClTqQfn",
        "colab_type": "text"
      },
      "source": [
        " Write a Python program to clone or copy a list."
      ]
    },
    {
      "cell_type": "code",
      "metadata": {
        "id": "Y72DxbMDqeUU",
        "colab_type": "code",
        "colab": {
          "base_uri": "https://localhost:8080/",
          "height": 51
        },
        "outputId": "ddc3cab5-da89-4abd-e42e-1e44f9c23c77"
      },
      "source": [
        " a=[10,3,15,12]\n",
        "new_list=list(a)\n",
        "print(a)\n",
        "print(new_list)"
      ],
      "execution_count": null,
      "outputs": [
        {
          "output_type": "stream",
          "text": [
            "[10, 3, 15, 12]\n",
            "[10, 3, 15, 12]\n"
          ],
          "name": "stdout"
        }
      ]
    },
    {
      "cell_type": "markdown",
      "metadata": {
        "id": "zRYiZhf3qv-4",
        "colab_type": "text"
      },
      "source": [
        " Write a Python program to print a specified list after removing the 0th, 4th and 5th elements. Sample List : ['Red', 'Green', 'White', 'Black', 'Pink', 'Yellow']"
      ]
    },
    {
      "cell_type": "code",
      "metadata": {
        "id": "wW4eTnMMq6cG",
        "colab_type": "code",
        "colab": {
          "base_uri": "https://localhost:8080/",
          "height": 34
        },
        "outputId": "06e85ae6-447b-4c1e-c8d7-3ded76d67747"
      },
      "source": [
        " color = ['Red', 'Green', 'White', 'Black', 'Pink', 'Yellow']\n",
        "color = [x for (i,x) in enumerate(color) if i not in (0,4,5)]\n",
        "print(color)"
      ],
      "execution_count": null,
      "outputs": [
        {
          "output_type": "stream",
          "text": [
            "['Green', 'White', 'Black']\n"
          ],
          "name": "stdout"
        }
      ]
    },
    {
      "cell_type": "markdown",
      "metadata": {
        "id": "_1SdQXhjrNqZ",
        "colab_type": "text"
      },
      "source": [
        " Write a Python program to print the numbers of a specified list after removing even numbers from it."
      ]
    },
    {
      "cell_type": "code",
      "metadata": {
        "id": "RfEs89lirol0",
        "colab_type": "code",
        "colab": {
          "base_uri": "https://localhost:8080/",
          "height": 34
        },
        "outputId": "e6702701-91ba-4c7a-eb7b-6a6af22609a0"
      },
      "source": [
        " num = [7,8, 120, 25, 44, 20, 27]\n",
        "num = [x for x in num if x%2!=0]\n",
        "print(num)"
      ],
      "execution_count": null,
      "outputs": [
        {
          "output_type": "stream",
          "text": [
            "[7, 25, 27]\n"
          ],
          "name": "stdout"
        }
      ]
    },
    {
      "cell_type": "markdown",
      "metadata": {
        "id": "5Wzfoe-1r26Q",
        "colab_type": "text"
      },
      "source": [
        "Write a Python program to shuffle and print a specified list."
      ]
    },
    {
      "cell_type": "code",
      "metadata": {
        "id": "JpZkYD3fr9yU",
        "colab_type": "code",
        "colab": {
          "base_uri": "https://localhost:8080/",
          "height": 54
        },
        "outputId": "0a68237e-384d-4a42-eacc-93411d9ff9c1"
      },
      "source": [
        " from random import shuffle\n",
        "color = ['Red', 'Green', 'White', 'Black', 'Pink', 'Yellow']\n",
        "shuffle(color)\n",
        "print(color)"
      ],
      "execution_count": null,
      "outputs": [
        {
          "output_type": "stream",
          "text": [
            "['Red', 'Black', 'Green', 'Pink', 'White', 'Yellow']\n"
          ],
          "name": "stdout"
        }
      ]
    },
    {
      "cell_type": "markdown",
      "metadata": {
        "id": "xR5nX8d5sHPM",
        "colab_type": "text"
      },
      "source": [
        " Write a Python program to get the difference between the two lists."
      ]
    },
    {
      "cell_type": "code",
      "metadata": {
        "id": "PirO5oUwsLev",
        "colab_type": "code",
        "colab": {
          "base_uri": "https://localhost:8080/",
          "height": 34
        },
        "outputId": "1d47c57b-aa0b-4ced-ca6d-9136cc0512e6"
      },
      "source": [
        " list1 = [1, 3, 5, 7, 9]\n",
        "list2=[1, 2, 4, 6, 7, 8]\n",
        "diff_list1_list2 = list(set(list1) - set(list2))\n",
        "diff_list2_list1 = list(set(list2) - set(list1))\n",
        "total_diff = diff_list1_list2 + diff_list2_list1\n",
        "print(total_diff)"
      ],
      "execution_count": null,
      "outputs": [
        {
          "output_type": "stream",
          "text": [
            "[9, 3, 5, 8, 2, 4, 6]\n"
          ],
          "name": "stdout"
        }
      ]
    }
  ]
}