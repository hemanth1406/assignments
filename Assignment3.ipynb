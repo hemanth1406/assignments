{
  "nbformat": 4,
  "nbformat_minor": 0,
  "metadata": {
    "colab": {
      "name": "Assignment3.ipynb",
      "provenance": [],
      "authorship_tag": "ABX9TyOfCkik1ifWo69G95TgbzSX",
      "include_colab_link": true
    },
    "kernelspec": {
      "name": "python3",
      "display_name": "Python 3"
    }
  },
  "cells": [
    {
      "cell_type": "markdown",
      "metadata": {
        "id": "view-in-github",
        "colab_type": "text"
      },
      "source": [
        "<a href=\"https://colab.research.google.com/github/hemanth1406/assignments/blob/master/Assignment3.ipynb\" target=\"_parent\"><img src=\"https://colab.research.google.com/assets/colab-badge.svg\" alt=\"Open In Colab\"/></a>"
      ]
    },
    {
      "cell_type": "code",
      "metadata": {
        "id": "B_8OL6dTGwBg",
        "colab_type": "code",
        "colab": {}
      },
      "source": [
        ""
      ],
      "execution_count": null,
      "outputs": []
    },
    {
      "cell_type": "markdown",
      "metadata": {
        "id": "Xpk4L5jDG6E8",
        "colab_type": "text"
      },
      "source": [
        "Program to take two inputs from user and check they are equal are not."
      ]
    },
    {
      "cell_type": "code",
      "metadata": {
        "id": "JxRFhAuxHEpt",
        "colab_type": "code",
        "colab": {
          "base_uri": "https://localhost:8080/",
          "height": 68
        },
        "outputId": "8af018ea-cf0c-4d7b-dddf-0f8f0c8c5a21"
      },
      "source": [
        "n1=int(input ()) \n",
        "n2=int(input ()) \n",
        "if n1==n2 :print('numbers are equal') \n",
        "else:print ('numbers are not equal')"
      ],
      "execution_count": null,
      "outputs": [
        {
          "output_type": "stream",
          "text": [
            "2\n",
            "3\n",
            "numbers are not equal\n"
          ],
          "name": "stdout"
        }
      ]
    },
    {
      "cell_type": "code",
      "metadata": {
        "id": "T5KmtWffZzSQ",
        "colab_type": "code",
        "colab": {}
      },
      "source": [
        ""
      ],
      "execution_count": null,
      "outputs": []
    },
    {
      "cell_type": "markdown",
      "metadata": {
        "id": "2BSd9XSzI3WF",
        "colab_type": "text"
      },
      "source": [
        " Program to take three inputs from user. And check 1) all are equal 2) any of two are equal using and or"
      ]
    },
    {
      "cell_type": "code",
      "metadata": {
        "id": "FlvkoiHOJTcV",
        "colab_type": "code",
        "colab": {
          "base_uri": "https://localhost:8080/",
          "height": 85
        },
        "outputId": "b67c389f-688d-4d83-dfe0-dc7956b44472"
      },
      "source": [
        "n1=input() \n",
        "n2=input()\n",
        "n3=input()\n",
        "if n1==n2==n3: print('all are equal')\n",
        "elif  n1==n2 or n2 ==n3 or n1==n3:print('any of two are equal')\n",
        "else:print ('none of them are equal')"
      ],
      "execution_count": null,
      "outputs": [
        {
          "output_type": "stream",
          "text": [
            "2\n",
            "2\n",
            "2\n",
            "all are equal\n"
          ],
          "name": "stdout"
        }
      ]
    },
    {
      "cell_type": "markdown",
      "metadata": {
        "id": "lmh_w1JxSSCd",
        "colab_type": "text"
      },
      "source": [
        " Program to take two numbers and check whether sum is greater than 5,less than 5,equal to 5"
      ]
    },
    {
      "cell_type": "code",
      "metadata": {
        "id": "rLkITY6wSitE",
        "colab_type": "code",
        "colab": {
          "base_uri": "https://localhost:8080/",
          "height": 68
        },
        "outputId": "4e1562ec-7946-44c1-af86-5d3a7eb6ffbb"
      },
      "source": [
        "n1=int(input()) \n",
        "n2=int(input()) \n",
        "if n1+n2>5 :print ('their sum is greater than 5') \n",
        "elif n1+n2<5:print ('their sum is less than 5') \n",
        "else :print ('they are equal')"
      ],
      "execution_count": null,
      "outputs": [
        {
          "output_type": "stream",
          "text": [
            "2\n",
            "5\n",
            "their sum is greater than 5\n"
          ],
          "name": "stdout"
        }
      ]
    },
    {
      "cell_type": "markdown",
      "metadata": {
        "id": "gF2GXAWOT0Mk",
        "colab_type": "text"
      },
      "source": [
        ".  Suppose passing marks of a subject is 35.take input of marks from user and check whether it is greater than passing marks or not"
      ]
    },
    {
      "cell_type": "code",
      "metadata": {
        "id": "LostTwfkUP3_",
        "colab_type": "code",
        "colab": {
          "base_uri": "https://localhost:8080/",
          "height": 51
        },
        "outputId": "bb8e2273-4c31-47a9-960d-838a142895b5"
      },
      "source": [
        "Mat=int(input('marks'))  \n",
        "if Mat >35 :print ('greater than pass marks') \n",
        "elif Mat <35:print('less than pass marks')\n",
        "else :print ('equal marks')"
      ],
      "execution_count": null,
      "outputs": [
        {
          "output_type": "stream",
          "text": [
            "marks36\n",
            "greater than pass marks\n"
          ],
          "name": "stdout"
        }
      ]
    },
    {
      "cell_type": "markdown",
      "metadata": {
        "id": "ONls2RTMXhya",
        "colab_type": "text"
      },
      "source": [
        " Write a python function to find the max of three numbers."
      ]
    },
    {
      "cell_type": "code",
      "metadata": {
        "id": "LNA3sCSQXvD8",
        "colab_type": "code",
        "colab": {
          "base_uri": "https://localhost:8080/",
          "height": 85
        },
        "outputId": "e9bee43d-583e-4d07-9aba-0cf141d80ca6"
      },
      "source": [
        "N1=int(input ()) \n",
        "N2=int(input ()) \n",
        "N3=int(input ())\n",
        "if N1 > N2 and N1 >N3:print('N1 is greater', N1) \n",
        "elif N2>N3:print('N2 is greater', N2) \n",
        "else :print ('N3 is greater',N3)"
      ],
      "execution_count": null,
      "outputs": [
        {
          "output_type": "stream",
          "text": [
            "7\n",
            "8\n",
            "10\n",
            "N3 is greater 10\n"
          ],
          "name": "stdout"
        }
      ]
    }
  ]
}