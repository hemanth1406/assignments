{
  "nbformat": 4,
  "nbformat_minor": 0,
  "metadata": {
    "colab": {
      "name": "Assignment 7.ipynb",
      "provenance": [],
      "authorship_tag": "ABX9TyNLBhdwvlwRufg/s0MViM4q",
      "include_colab_link": true
    },
    "kernelspec": {
      "name": "python3",
      "display_name": "Python 3"
    }
  },
  "cells": [
    {
      "cell_type": "markdown",
      "metadata": {
        "id": "view-in-github",
        "colab_type": "text"
      },
      "source": [
        "<a href=\"https://colab.research.google.com/github/hemanth1406/assignments/blob/master/Assignment_7.ipynb\" target=\"_parent\"><img src=\"https://colab.research.google.com/assets/colab-badge.svg\" alt=\"Open In Colab\"/></a>"
      ]
    },
    {
      "cell_type": "markdown",
      "metadata": {
        "id": "UHdpYYi55wg9",
        "colab_type": "text"
      },
      "source": [
        "python program to find square root of a number."
      ]
    },
    {
      "cell_type": "code",
      "metadata": {
        "id": "DMCA-WXy58HF",
        "colab_type": "code",
        "colab": {
          "base_uri": "https://localhost:8080/",
          "height": 51
        },
        "outputId": "806468ce-cb62-4686-8d9f-0f09c6e63a4f"
      },
      "source": [
        "import math\n",
        "n=int(input('enter a number:')) \n",
        "square=math.sqrt(n) \n",
        "print(square)"
      ],
      "execution_count": null,
      "outputs": [
        {
          "output_type": "stream",
          "text": [
            "enter a number:25\n",
            "5.0\n"
          ],
          "name": "stdout"
        }
      ]
    },
    {
      "cell_type": "markdown",
      "metadata": {
        "id": "0f6s_LOz7EFm",
        "colab_type": "text"
      },
      "source": [
        "Python program to check whether a number is positive, negative or zero."
      ]
    },
    {
      "cell_type": "code",
      "metadata": {
        "id": "wkqhyG8T7Moh",
        "colab_type": "code",
        "colab": {
          "base_uri": "https://localhost:8080/",
          "height": 51
        },
        "outputId": "0f2f4450-5093-4bb3-9a17-d33d3655ae04"
      },
      "source": [
        "n=int(input (\"enter a number \")) \n",
        "if n>0:\n",
        "   print(\" The\", n, \"is positive\")\n",
        "elif n<0:\n",
        "       print(\" The\" , n, \"is negative\") \n",
        "else:\n",
        "       print (\" The number is zero\")"
      ],
      "execution_count": null,
      "outputs": [
        {
          "output_type": "stream",
          "text": [
            "enter a number 0\n",
            " The number is zero\n"
          ],
          "name": "stdout"
        }
      ]
    },
    {
      "cell_type": "markdown",
      "metadata": {
        "id": "4G2bXegx8SPF",
        "colab_type": "text"
      },
      "source": [
        "Python program to check leap year."
      ]
    },
    {
      "cell_type": "code",
      "metadata": {
        "id": "rdPeZq4E8Xi9",
        "colab_type": "code",
        "colab": {
          "base_uri": "https://localhost:8080/",
          "height": 51
        },
        "outputId": "1764634e-6639-4033-bfa7-b5f829d9db3b"
      },
      "source": [
        "year=int(input(\"enter year\") ) \n",
        "if year%4==0 and year%100!=0:\n",
        " print (year, \"is  leap year\") \n",
        "elif year%4==0 and year%400==0:\n",
        " print (year, \" is leap year\") \n",
        "elif year%100==0:\n",
        " print(year,\"is not a leap year\") \n",
        "else:\n",
        " print(year, \" is not leap year \")"
      ],
      "execution_count": null,
      "outputs": [
        {
          "output_type": "stream",
          "text": [
            "enter year1600\n",
            "1600  is leap year\n"
          ],
          "name": "stdout"
        }
      ]
    },
    {
      "cell_type": "markdown",
      "metadata": {
        "id": "1N12ObUdLYd6",
        "colab_type": "text"
      },
      "source": [
        "Python program to check whether a number is Armstrong number."
      ]
    },
    {
      "cell_type": "code",
      "metadata": {
        "id": "PFH8yDR0NUAN",
        "colab_type": "code",
        "colab": {
          "base_uri": "https://localhost:8080/",
          "height": 51
        },
        "outputId": "5bdfe8c2-0e8f-44b7-a04f-d64f69c2bdaa"
      },
      "source": [
        "n=int(input(\"enter a number \")) \n",
        "sum=0\n",
        "temp=n\n",
        "str(n) \n",
        "length=len(str(n)) \n",
        "while temp>0:\n",
        " rem=temp%10\n",
        " sum+=rem**length\n",
        " temp=temp//10\n",
        "if n==sum:\n",
        " print (n, \" is Armstrong number \") \n",
        "else:\n",
        " print(n, \" is not Armstrong number \")"
      ],
      "execution_count": null,
      "outputs": [
        {
          "output_type": "stream",
          "text": [
            "enter a number 153\n",
            "153  is Armstrong number \n"
          ],
          "name": "stdout"
        }
      ]
    },
    {
      "cell_type": "markdown",
      "metadata": {
        "id": "8H189mNlRyaK",
        "colab_type": "text"
      },
      "source": [
        "Python program to find Armstrong number in an interval."
      ]
    },
    {
      "cell_type": "code",
      "metadata": {
        "id": "AHPKIfyWR-S7",
        "colab_type": "code",
        "colab": {
          "base_uri": "https://localhost:8080/",
          "height": 119
        },
        "outputId": "2af1e779-257a-48b0-d48e-bae3a81b433a"
      },
      "source": [
        "n1=int(input(\"enter a number \")) \n",
        "n2=int(input (\" enter a number \")) \n",
        "for num in range(n1,n2+1):\n",
        " temp=num\n",
        " sum=0\n",
        " while temp>0:\n",
        "  rem=temp%10\n",
        "  sum=sum+rem**3\n",
        "  temp=temp//10\n",
        " if num==sum:\n",
        "  print(num, \" is Armstrong number \")"
      ],
      "execution_count": null,
      "outputs": [
        {
          "output_type": "stream",
          "text": [
            "enter a number 153\n",
            " enter a number 407\n",
            "153  is Armstrong number \n",
            "370  is Armstrong number \n",
            "371  is Armstrong number \n",
            "407  is Armstrong number \n"
          ],
          "name": "stdout"
        }
      ]
    },
    {
      "cell_type": "markdown",
      "metadata": {
        "id": "DE1rOROlTY_a",
        "colab_type": "text"
      },
      "source": [
        "Python program to print fibonacci sequence."
      ]
    },
    {
      "cell_type": "code",
      "metadata": {
        "id": "ZjJ7W5x8bAbV",
        "colab_type": "code",
        "colab": {
          "base_uri": "https://localhost:8080/",
          "height": 154
        },
        "outputId": "3f04ef7f-32e8-4116-d3b3-4d0492477692"
      },
      "source": [
        "n=int(input(\"enter no of terms\") ) \n",
        "first=0\n",
        "second=1\n",
        "if n>0:\n",
        "  print(\" Fibonacci sequence :\") \n",
        "  i=0\n",
        "  while i<n:\n",
        "   print(first) \n",
        "   next=first+second\n",
        "   first=second\n",
        "   second=next\n",
        "   i+=1"
      ],
      "execution_count": null,
      "outputs": [
        {
          "output_type": "stream",
          "text": [
            "enter no of terms6\n",
            " Fibonacci sequence :\n",
            "0\n",
            "1\n",
            "1\n",
            "2\n",
            "3\n",
            "5\n"
          ],
          "name": "stdout"
        }
      ]
    }
  ]
}