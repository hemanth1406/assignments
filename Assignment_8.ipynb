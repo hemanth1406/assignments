{
  "nbformat": 4,
  "nbformat_minor": 0,
  "metadata": {
    "colab": {
      "name": "Assignment 8.ipynb",
      "provenance": [],
      "authorship_tag": "ABX9TyMfbfTVw4EOaiPak0X87hU9",
      "include_colab_link": true
    },
    "kernelspec": {
      "name": "python3",
      "display_name": "Python 3"
    }
  },
  "cells": [
    {
      "cell_type": "markdown",
      "metadata": {
        "id": "view-in-github",
        "colab_type": "text"
      },
      "source": [
        "<a href=\"https://colab.research.google.com/github/hemanth1406/assignments/blob/master/Assignment_8.ipynb\" target=\"_parent\"><img src=\"https://colab.research.google.com/assets/colab-badge.svg\" alt=\"Open In Colab\"/></a>"
      ]
    },
    {
      "cell_type": "markdown",
      "metadata": {
        "id": "6zjwbI8gblur",
        "colab_type": "text"
      },
      "source": [
        " Write a python program to calculate a string"
      ]
    },
    {
      "cell_type": "code",
      "metadata": {
        "id": "u3oEktaZbrvP",
        "colab_type": "code",
        "colab": {
          "base_uri": "https://localhost:8080/",
          "height": 51
        },
        "outputId": "afaeb800-45ec-41ca-a9ba-2a67c160262f"
      },
      "source": [
        "str=input(\"string is:\") \n",
        "length=len(str)\n",
        "print (\"length of the string is\",length)"
      ],
      "execution_count": null,
      "outputs": [
        {
          "output_type": "stream",
          "text": [
            "string is:sandeep\n",
            "length of the string is 7\n"
          ],
          "name": "stdout"
        }
      ]
    },
    {
      "cell_type": "markdown",
      "metadata": {
        "id": "v66Pg9QlchCq",
        "colab_type": "text"
      },
      "source": [
        " Write a python program to calculate no of characters in a string."
      ]
    },
    {
      "cell_type": "code",
      "metadata": {
        "id": "7tDb0-YFcqbN",
        "colab_type": "code",
        "colab": {
          "base_uri": "https://localhost:8080/",
          "height": 51
        },
        "outputId": "56fd9d2a-a347-4763-83fd-1c59adb917dc"
      },
      "source": [
        "string=input(\"the string is:\") \n",
        "count=0\n",
        "for str in string:\n",
        " count+=1\n",
        "print(count)"
      ],
      "execution_count": null,
      "outputs": [
        {
          "output_type": "stream",
          "text": [
            "the string is:566\n",
            "3\n"
          ],
          "name": "stdout"
        }
      ]
    },
    {
      "cell_type": "markdown",
      "metadata": {
        "id": "51KKGt6edZN1",
        "colab_type": "text"
      },
      "source": [
        " Write a python program to get a single string from two given strings separated by space and swap the first two characters of each string."
      ]
    },
    {
      "cell_type": "code",
      "metadata": {
        "id": "a_4A0cD-d-qk",
        "colab_type": "code",
        "colab": {
          "base_uri": "https://localhost:8080/",
          "height": 51
        },
        "outputId": "af104551-b5f1-4189-fded-cc81272b0e65"
      },
      "source": [
        "str1=input(\"string 1 is\")\n",
        "length=len(str1) \n",
        "temp=\"\"\n",
        "for i in range(0, length) :\n",
        "   if length<3:break\n",
        "   else:\n",
        "       if i in (0, 1,length-2,length-1):\n",
        "          temp=temp+str1[i]\n",
        "       else:continue\n",
        "print(temp)"
      ],
      "execution_count": null,
      "outputs": [
        {
          "output_type": "stream",
          "text": [
            "string 1 isSandeep\n",
            "Saep\n"
          ],
          "name": "stdout"
        }
      ]
    },
    {
      "cell_type": "markdown",
      "metadata": {
        "id": "_h8Xqinhm2hh",
        "colab_type": "text"
      },
      "source": [
        " Write a python script that takes input from the user and displays that input back in lower and upper cases."
      ]
    },
    {
      "cell_type": "code",
      "metadata": {
        "id": "F8gjMVHrnGOE",
        "colab_type": "code",
        "colab": {
          "base_uri": "https://localhost:8080/",
          "height": 68
        },
        "outputId": "1c4ba1ee-b84b-4573-9099-6167a82ff538"
      },
      "source": [
        "str=input (\"String is\") \n",
        "print (str.lower())\n",
        "print (str.upper())"
      ],
      "execution_count": null,
      "outputs": [
        {
          "output_type": "stream",
          "text": [
            "String isSanDeep\n",
            "sandeep\n",
            "SANDEEP\n"
          ],
          "name": "stdout"
        }
      ]
    },
    {
      "cell_type": "markdown",
      "metadata": {
        "id": "Zuy_w_scnyq7",
        "colab_type": "text"
      },
      "source": [
        " Write a program to remove a new line in python"
      ]
    },
    {
      "cell_type": "code",
      "metadata": {
        "id": "yvTdWIZOoVOb",
        "colab_type": "code",
        "colab": {
          "base_uri": "https://localhost:8080/",
          "height": 68
        },
        "outputId": "6d7a3208-bc07-4f91-b14a-aad468c4aa4b"
      },
      "source": [
        "string=input (\"string is\")\n",
        "print (string) \n",
        "print (string.strip())"
      ],
      "execution_count": null,
      "outputs": [
        {
          "output_type": "stream",
          "text": [
            "string isSandeep\n",
            "Sandeep\n",
            "Sandeep\n"
          ],
          "name": "stdout"
        }
      ]
    },
    {
      "cell_type": "markdown",
      "metadata": {
        "id": "m4Vff5ZDosYq",
        "colab_type": "text"
      },
      "source": [
        "Write a python program to count occurrences of a substring in a string."
      ]
    },
    {
      "cell_type": "code",
      "metadata": {
        "id": "ajWIrvpqo82w",
        "colab_type": "code",
        "colab": {
          "base_uri": "https://localhost:8080/",
          "height": 34
        },
        "outputId": "8d373be3-76d7-427d-fd78-9f8cfdc79eee"
      },
      "source": [
        "string=\"practice makes man perfect \"\n",
        "print (string.count(\"a\"))"
      ],
      "execution_count": null,
      "outputs": [
        {
          "output_type": "stream",
          "text": [
            "3\n"
          ],
          "name": "stdout"
        }
      ]
    },
    {
      "cell_type": "markdown",
      "metadata": {
        "id": "PEjnQ-w1qF5M",
        "colab_type": "text"
      },
      "source": [
        " Write a python program to convert a string in list."
      ]
    },
    {
      "cell_type": "code",
      "metadata": {
        "id": "fwkDFUmVqQ0b",
        "colab_type": "code",
        "colab": {
          "base_uri": "https://localhost:8080/",
          "height": 34
        },
        "outputId": "7101e43b-1fa8-4e71-934f-a84c4607fdf7"
      },
      "source": [
        "def convert(string) :\n",
        "   list1=list(string.split(\"-\"))\n",
        "   return list1\n",
        "string1=\"chenna-sandeep-reddy\"\n",
        "print(convert(string1))"
      ],
      "execution_count": null,
      "outputs": [
        {
          "output_type": "stream",
          "text": [
            "['chenna', 'sandeep', 'reddy']\n"
          ],
          "name": "stdout"
        }
      ]
    },
    {
      "cell_type": "code",
      "metadata": {
        "id": "VbS8BRHVtJt5",
        "colab_type": "code",
        "colab": {
          "base_uri": "https://localhost:8080/",
          "height": 68
        },
        "outputId": "633a648b-0615-4a95-8b57-59764fdd40e2"
      },
      "source": [
        "str=\"are\"\n",
        "print(str[0])\n",
        "print (str[1]) \n",
        "print (str[2])"
      ],
      "execution_count": null,
      "outputs": [
        {
          "output_type": "stream",
          "text": [
            "a\n",
            "r\n",
            "e\n"
          ],
          "name": "stdout"
        }
      ]
    },
    {
      "cell_type": "markdown",
      "metadata": {
        "id": "dYev0eVYrV3C",
        "colab_type": "text"
      },
      "source": [
        " Write a python program to perform deletion of character."
      ]
    },
    {
      "cell_type": "code",
      "metadata": {
        "id": "1CuHpxNPrfq-",
        "colab_type": "code",
        "colab": {
          "base_uri": "https://localhost:8080/",
          "height": 51
        },
        "outputId": "9b7a3487-050d-483c-b68c-23609ccc5f3b"
      },
      "source": [
        "str=input (\"string is\")\n",
        "print(str.replace(\"n\",\"\"))"
      ],
      "execution_count": null,
      "outputs": [
        {
          "output_type": "stream",
          "text": [
            "string isSandeep\n",
            "Sadeep\n"
          ],
          "name": "stdout"
        }
      ]
    },
    {
      "cell_type": "markdown",
      "metadata": {
        "id": "YVjHv_w4szrI",
        "colab_type": "text"
      },
      "source": [
        " Write a python program to print every character of a string entered by user in a new line using loop."
      ]
    },
    {
      "cell_type": "markdown",
      "metadata": {
        "id": "boCzaXEWm2ge",
        "colab_type": "text"
      },
      "source": [
        ""
      ]
    },
    {
      "cell_type": "markdown",
      "metadata": {
        "id": "7BtOw7U1kqZm",
        "colab_type": "text"
      },
      "source": [
        ""
      ]
    },
    {
      "cell_type": "markdown",
      "metadata": {
        "id": "pOZ5a1tEX6aG",
        "colab_type": "text"
      },
      "source": [
        " Write a program to find the length of the string refrigerator without using length function."
      ]
    },
    {
      "cell_type": "code",
      "metadata": {
        "id": "4rYk2L__YG8J",
        "colab_type": "code",
        "colab": {
          "base_uri": "https://localhost:8080/",
          "height": 34
        },
        "outputId": "15aed981-28a5-4e89-afaf-ee997b6ac22c"
      },
      "source": [
        "str=\"refrigerator\"\n",
        "count=0\n",
        "for i in str:\n",
        "  count+=1\n",
        "print(\"length of string is\",count)"
      ],
      "execution_count": null,
      "outputs": [
        {
          "output_type": "stream",
          "text": [
            "length of string is 12\n"
          ],
          "name": "stdout"
        }
      ]
    }
  ]
}