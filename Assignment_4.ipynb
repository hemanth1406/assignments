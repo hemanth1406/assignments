{
  "nbformat": 4,
  "nbformat_minor": 0,
  "metadata": {
    "colab": {
      "name": "Assignment 4.ipynb",
      "provenance": [],
      "authorship_tag": "ABX9TyMNcNxVC8trjA4maOWwaoBP",
      "include_colab_link": true
    },
    "kernelspec": {
      "name": "python3",
      "display_name": "Python 3"
    }
  },
  "cells": [
    {
      "cell_type": "markdown",
      "metadata": {
        "id": "view-in-github",
        "colab_type": "text"
      },
      "source": [
        "<a href=\"https://colab.research.google.com/github/hemanth1406/assignments/blob/master/Assignment_4.ipynb\" target=\"_parent\"><img src=\"https://colab.research.google.com/assets/colab-badge.svg\" alt=\"Open In Colab\"/></a>"
      ]
    },
    {
      "cell_type": "markdown",
      "metadata": {
        "id": "BrUlRKzq4osx",
        "colab_type": "text"
      },
      "source": [
        "Write a python function to find maximum of three numbers."
      ]
    },
    {
      "cell_type": "code",
      "metadata": {
        "id": "k6OHf2NF2NQj",
        "colab_type": "code",
        "colab": {
          "base_uri": "https://localhost:8080/",
          "height": 85
        },
        "outputId": "4a243d0d-4c73-4f75-c025-585ff2b12cf3"
      },
      "source": [
        "def greatest (a, b, c) :\n",
        " if a>b:\n",
        "  if a>c:return a\n",
        "  else:return c\n",
        " elif b>c:return c\n",
        " else:return c\n",
        " \n",
        "a=int(input ()) \n",
        "b=int(input ()) \n",
        "c=int(input ()) \n",
        "Large=greatest(a, b, c) \n",
        "print (\"large no is \" ,Large)"
      ],
      "execution_count": null,
      "outputs": [
        {
          "output_type": "stream",
          "text": [
            "3\n",
            "5\n",
            "9\n",
            "large no is  9\n"
          ],
          "name": "stdout"
        }
      ]
    },
    {
      "cell_type": "markdown",
      "metadata": {
        "id": "Ste-NU_G6qFo",
        "colab_type": "text"
      },
      "source": [
        " Write a python function to check whether a number is prime or not"
      ]
    },
    {
      "cell_type": "markdown",
      "metadata": {
        "id": "EyTFQI7s6JFP",
        "colab_type": "text"
      },
      "source": [
        ""
      ]
    },
    {
      "cell_type": "markdown",
      "metadata": {
        "id": "BV4lq27J6JkM",
        "colab_type": "text"
      },
      "source": [
        ""
      ]
    },
    {
      "cell_type": "code",
      "metadata": {
        "id": "0YWNvLc_HugW",
        "colab_type": "code",
        "colab": {
          "base_uri": "https://localhost:8080/",
          "height": 34
        },
        "outputId": "aa07549c-962d-4870-9aa5-fdcfcf797b43"
      },
      "source": [
        "n=1\n",
        "if n>1:\n",
        "  for i in range(2, n):\n",
        "   if n%i==0:print(\"not a prime \")\n",
        "   else :  print ('prime number')\n",
        "else :print ('not a prime')"
      ],
      "execution_count": null,
      "outputs": [
        {
          "output_type": "stream",
          "text": [
            "not a prime\n"
          ],
          "name": "stdout"
        }
      ]
    },
    {
      "cell_type": "markdown",
      "metadata": {
        "id": "KXmlV0NjLmRK",
        "colab_type": "text"
      },
      "source": [
        "Write a python function to a sum of squares of n natural numbers."
      ]
    },
    {
      "cell_type": "code",
      "metadata": {
        "id": "ro1N3buMLx90",
        "colab_type": "code",
        "colab": {
          "base_uri": "https://localhost:8080/",
          "height": 34
        },
        "outputId": "c74b5b12-1286-47f8-fdc7-5fca245fd47e"
      },
      "source": [
        "def  squaresum(n):\n",
        "  return ((n*(n+1)) *((2*n) +1) ) /6\n",
        "n=6\n",
        "print(squaresum(n))"
      ],
      "execution_count": null,
      "outputs": [
        {
          "output_type": "stream",
          "text": [
            "91.0\n"
          ],
          "name": "stdout"
        }
      ]
    },
    {
      "cell_type": "code",
      "metadata": {
        "id": "NivqS6OonsRQ",
        "colab_type": "code",
        "colab": {}
      },
      "source": [
        "def swap(a)"
      ],
      "execution_count": null,
      "outputs": []
    },
    {
      "cell_type": "code",
      "metadata": {
        "id": "sAfhZ4YlNGay",
        "colab_type": "code",
        "colab": {
          "base_uri": "https://localhost:8080/",
          "height": 34
        },
        "outputId": "ea6aa90e-c5f7-4197-e10a-644574877acb"
      },
      "source": [
        "s='madam'\n",
        "String=s[-1::-1]\n",
        "print ('the reverse string is', String)"
      ],
      "execution_count": null,
      "outputs": [
        {
          "output_type": "stream",
          "text": [
            "the reverse string is madam\n"
          ],
          "name": "stdout"
        }
      ]
    },
    {
      "cell_type": "markdown",
      "metadata": {
        "id": "o2JO9neQM1nX",
        "colab_type": "text"
      },
      "source": [
        " Write a python program to reverse a string."
      ]
    },
    {
      "cell_type": "code",
      "metadata": {
        "id": "6kxgW1X1n_Xn",
        "colab_type": "code",
        "colab": {
          "base_uri": "https://localhost:8080/",
          "height": 68
        },
        "outputId": "0c078cbe-e589-4af4-b38d-4fa72f16763f"
      },
      "source": [
        "def swap(a, b): \n",
        " return a,b\n",
        " swap(a, b) \n",
        "a=int(input ()) \n",
        "b=int(input ()) \n",
        "temp=a\n",
        "a=b\n",
        "b=temp\n",
        "print('after swapping', a,b)"
      ],
      "execution_count": null,
      "outputs": [
        {
          "output_type": "stream",
          "text": [
            "7\n",
            "10\n",
            "after swapping 10 7\n"
          ],
          "name": "stdout"
        }
      ]
    }
  ]
}