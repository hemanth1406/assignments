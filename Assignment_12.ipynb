{
  "nbformat": 4,
  "nbformat_minor": 0,
  "metadata": {
    "colab": {
      "name": "Assignment 12.ipynb",
      "provenance": [],
      "authorship_tag": "ABX9TyOAlClY79REHmCmxcgRggxB",
      "include_colab_link": true
    },
    "kernelspec": {
      "name": "python3",
      "display_name": "Python 3"
    }
  },
  "cells": [
    {
      "cell_type": "markdown",
      "metadata": {
        "id": "view-in-github",
        "colab_type": "text"
      },
      "source": [
        "<a href=\"https://colab.research.google.com/github/hemanth1406/assignments/blob/master/Assignment_12.ipynb\" target=\"_parent\"><img src=\"https://colab.research.google.com/assets/colab-badge.svg\" alt=\"Open In Colab\"/></a>"
      ]
    },
    {
      "cell_type": "markdown",
      "metadata": {
        "id": "Pd6JKRQJh3CN",
        "colab_type": "text"
      },
      "source": [
        " \n",
        "What is dictionary in Python? Explain with an example\n",
        "Python Dictionary are defined into two elements i.e., keys and values\n",
        "1. keys will be in Single Element\n",
        "2. Values can be in list or list within a list ,numbers etc.\n",
        " \n",
        " Syntax: dict={'Revanth':24,jhdsfvy,...}"
      ]
    },
    {
      "cell_type": "code",
      "metadata": {
        "id": "c_CTsRnLjlro",
        "colab_type": "code",
        "colab": {
          "base_uri": "https://localhost:8080/",
          "height": 34
        },
        "outputId": "dfb74f01-31a3-4778-cc3e-6ee3bbc9003e"
      },
      "source": [
        " dict={'Revanth':20,'Subhash':56,'Hemanth':30,'Charan':10}\n",
        "print(dict['Revanth'])"
      ],
      "execution_count": null,
      "outputs": [
        {
          "output_type": "stream",
          "text": [
            "20\n"
          ],
          "name": "stdout"
        }
      ]
    },
    {
      "cell_type": "markdown",
      "metadata": {
        "id": "7OMlQQQjj1aF",
        "colab_type": "text"
      },
      "source": [
        " Write a python program to sum all the numbers in a list."
      ]
    },
    {
      "cell_type": "code",
      "metadata": {
        "id": "-aolWqv9j8Vx",
        "colab_type": "code",
        "colab": {
          "base_uri": "https://localhost:8080/",
          "height": 34
        },
        "outputId": "785f3d64-1640-43ac-fa4d-79a46ebf57e4"
      },
      "source": [
        " def sum_list(items):\n",
        "    sum_numbers = 0\n",
        "    for x in items:\n",
        "        sum_numbers += x\n",
        "    return sum_numbers\n",
        "print(sum_list([2,7,9,8]))"
      ],
      "execution_count": null,
      "outputs": [
        {
          "output_type": "stream",
          "text": [
            "26\n"
          ],
          "name": "stdout"
        }
      ]
    },
    {
      "cell_type": "markdown",
      "metadata": {
        "id": "CVHGECC5kLP_",
        "colab_type": "text"
      },
      "source": [
        " Write a python program to create a list of empty dictionaries."
      ]
    },
    {
      "cell_type": "code",
      "metadata": {
        "id": "JUjnOoinkVix",
        "colab_type": "code",
        "colab": {
          "base_uri": "https://localhost:8080/",
          "height": 51
        },
        "outputId": "d169295a-ef43-402b-ca5c-c01d76bb110b"
      },
      "source": [
        " n = int(input ()) \n",
        "l = [{} for _ in range(n)]\n",
        "print(l)"
      ],
      "execution_count": null,
      "outputs": [
        {
          "output_type": "stream",
          "text": [
            "9\n",
            "[{}, {}, {}, {}, {}, {}, {}, {}, {}]\n"
          ],
          "name": "stdout"
        }
      ]
    },
    {
      "cell_type": "markdown",
      "metadata": {
        "id": "orWMrjJ0kxRs",
        "colab_type": "text"
      },
      "source": [
        " Write a python program to access dictionary keys element by index."
      ]
    },
    {
      "cell_type": "code",
      "metadata": {
        "id": "pXAIPfkSk9mT",
        "colab_type": "code",
        "colab": {
          "base_uri": "https://localhost:8080/",
          "height": 34
        },
        "outputId": "8b4cedd5-78fd-48d0-f649-572693cb6784"
      },
      "source": [
        " subjects = {'physics': 78, 'math': 90, 'chemistry': 76}\n",
        "print(list(subjects)[0])"
      ],
      "execution_count": null,
      "outputs": [
        {
          "output_type": "stream",
          "text": [
            "physics\n"
          ],
          "name": "stdout"
        }
      ]
    },
    {
      "cell_type": "markdown",
      "metadata": {
        "id": "7yLxTn84lO1I",
        "colab_type": "text"
      },
      "source": [
        " Write a python program to iterate over dictionaries using for loops."
      ]
    },
    {
      "cell_type": "code",
      "metadata": {
        "id": "M4CvpmTeliKb",
        "colab_type": "code",
        "colab": {
          "base_uri": "https://localhost:8080/",
          "height": 68
        },
        "outputId": "f5e111bc-bc7e-441d-e6c8-87d8ab80587e"
      },
      "source": [
        " d = {'x': 10, 'y': 200, 'z': 303} \n",
        "for dict_key, dict_value in d.items():\n",
        "    print(dict_key,'->',dict_value)"
      ],
      "execution_count": null,
      "outputs": [
        {
          "output_type": "stream",
          "text": [
            "x -> 10\n",
            "y -> 200\n",
            "z -> 303\n"
          ],
          "name": "stdout"
        }
      ]
    },
    {
      "cell_type": "markdown",
      "metadata": {
        "id": "GAmBvZWTlx62",
        "colab_type": "text"
      },
      "source": [
        " Write a python program to sum all the items in the dictionary."
      ]
    },
    {
      "cell_type": "code",
      "metadata": {
        "id": "9c2APRC1mA6x",
        "colab_type": "code",
        "colab": {
          "base_uri": "https://localhost:8080/",
          "height": 34
        },
        "outputId": "40819a3d-d077-48b5-b79b-12fb7fc46b30"
      },
      "source": [
        " my_dict = {'data1':21,'data2':525,'data3':5}\n",
        "print(sum(my_dict.values()))"
      ],
      "execution_count": null,
      "outputs": [
        {
          "output_type": "stream",
          "text": [
            "551\n"
          ],
          "name": "stdout"
        }
      ]
    },
    {
      "cell_type": "markdown",
      "metadata": {
        "id": "fpyjAWYEmQMv",
        "colab_type": "text"
      },
      "source": [
        " Write a Python script to concatenate following dictionaries to create a new one. Sample Dictionary: a. dic1 = {1:10, 2:20} b. dic2 = {3:30, 4:40} c. dic3 = {5:50, 6:60}"
      ]
    },
    {
      "cell_type": "code",
      "metadata": {
        "id": "PDxaRgCPmY-U",
        "colab_type": "code",
        "colab": {
          "base_uri": "https://localhost:8080/",
          "height": 54
        },
        "outputId": "8f664c7a-7a72-448b-f801-a1fe902049f5"
      },
      "source": [
        " dic1={1:10, 2:20}\n",
        "dic2={3:30, 4:40}\n",
        "dic3={5:50,6:60}\n",
        "dic4 = {}\n",
        "for d in (dic1, dic2, dic3): dic4.update(d)\n",
        "print(dic4)"
      ],
      "execution_count": null,
      "outputs": [
        {
          "output_type": "stream",
          "text": [
            "{1: 10, 2: 20, 3: 30, 4: 40, 5: 50, 6: 60}\n"
          ],
          "name": "stdout"
        }
      ]
    }
  ]
}